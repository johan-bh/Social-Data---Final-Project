{
 "cells": [
  {
   "cell_type": "code",
   "execution_count": 2,
   "metadata": {},
   "outputs": [
    {
     "name": "stderr",
     "output_type": "stream",
     "text": [
      "C:\\Users\\jbh\\AppData\\Local\\Temp\\ipykernel_18724\\2503328965.py:3: DeprecationWarning: \n",
      "Pyarrow will become a required dependency of pandas in the next major release of pandas (pandas 3.0),\n",
      "(to allow more performant data types, such as the Arrow string type, and better interoperability with other libraries)\n",
      "but was not found to be installed on your system.\n",
      "If this would cause problems for you,\n",
      "please provide us feedback at https://github.com/pandas-dev/pandas/issues/54466\n",
      "        \n",
      "  import pandas as pd\n"
     ]
    },
    {
     "data": {
      "text/plain": [
       "(8170556, 30)"
      ]
     },
     "execution_count": 2,
     "metadata": {},
     "output_type": "execute_result"
    }
   ],
   "source": [
    "# Import Libraries\n",
    "import numpy as np\n",
    "import pandas as pd\n",
    "import matplotlib.pyplot as plt\n",
    "import seaborn as sns\n",
    "import plotly.express as px\n",
    "import json\n",
    "import os\n",
    "import warnings\n",
    "warnings.filterwarnings('ignore')\n",
    "\n",
    "# # Load the cleaned data file\n",
    "# cwd = os.getcwd()\n",
    "# print(cwd)\n",
    "# parent_dir = os.path.dirname(cwd)\n",
    "# print(parent_dir)\n",
    "filename = r'C:\\Users\\jbh\\Desktop\\NYPD_Complaint_Data_Cleaned.csv'\n",
    "df = pd.read_csv(filename)\n",
    "\n",
    "\n",
    "df.shape"
   ]
  },
  {
   "cell_type": "code",
   "execution_count": 4,
   "metadata": {},
   "outputs": [],
   "source": [
    "# Focus crimes: FELONY ASSAULT, ROBBERY, RAPE\n",
    "focus_crimes = ['FELONY ASSAULT', 'ROBBERY', 'RAPE']\n",
    "\n",
    "df_focus = df[df['Offense_Description'].isin(focus_crimes)]\n",
    "\n",
    "\n",
    "# Keep columns: Complaint_From_Date, Complaint_From_Time, Lattitude, Longtitude, Victim_Sex\n",
    "df_focus = df_focus[['Complaint_From_Date', 'Complaint_From_Time', 'Latitude', 'Longitude', 'Victim_Sex']]\n",
    "\n",
    "# Drop rows where Victim_Sex is not \"M\" or \"F\" (D=Business/Organization and E = PSNY/People of the State of New York which is not relevant to the case)\n",
    "df_focus = df_focus[df_focus['Victim_Sex'] != 'D']\n",
    "df_focus = df_focus[df_focus['Victim_Sex'] != 'E']\n",
    "# The footnotes doesn't provide any useful information on the Victim_Sex == \"L\". We think it might be \"Lady\" or \"LQBTQ\" but we are not sure. So we will drop these rows. \n",
    "# In this subset of data, they only account for approx 800 rows out of 800k rows. So it's not a big deal to drop them.\n",
    "df_focus = df_focus[df_focus['Victim_Sex'] != 'L']\n",
    "\n",
    "\n",
    "# convert to datetime\n",
    "df_focus['Complaint_From_Date'] = pd.to_datetime(df_focus['Complaint_From_Date'])\n",
    "# create a column \"DayOfWeek\" and remove the column \"Complaint_From_Date\"\n",
    "df_focus['weekday'] = df_focus['Complaint_From_Date'].dt.day_name()\n",
    "df_focus = df_focus.drop(columns=['Complaint_From_Date'])\n",
    "\n",
    "# convert Complaint_From_Time to datetime\n",
    "df_focus['Complaint_From_Time'] = pd.to_datetime(df_focus['Complaint_From_Time'], format='%H:%M:%S').dt.time\n",
    "# create a column \"hour\" and remove the column \"Complaint_From_Time\"\n",
    "df_focus['hour'] = pd.to_datetime(df_focus['Complaint_From_Time'], format='%H:%M:%S').dt.hour\n",
    "df_focus = df_focus.drop(columns=['Complaint_From_Time'])\n",
    "\n",
    "# convert latitude and longitude to float\n",
    "df_focus['Latitude'] = df_focus['Latitude'].astype(float)\n",
    "df_focus['Longitude'] = df_focus['Longitude'].astype(float)\n",
    "\n",
    "# rename to \"lat\" and \"lon\"\n",
    "df_focus = df_focus.rename(columns={'Latitude': 'lat', 'Longitude': 'lon'})\n",
    "\n",
    "# only keep 10k rows for now\n",
    "# df_focus = df_focus.sample(n=10000)\n",
    "\n",
    "# save the df to json with comma separated entries encapulated in square brackets\n",
    "df_focus.to_json('data2.json', orient='records', lines=False)"
   ]
  },
  {
   "cell_type": "code",
   "execution_count": null,
   "metadata": {},
   "outputs": [],
   "source": []
  }
 ],
 "metadata": {
  "kernelspec": {
   "display_name": "Python 3",
   "language": "python",
   "name": "python3"
  },
  "language_info": {
   "codemirror_mode": {
    "name": "ipython",
    "version": 3
   },
   "file_extension": ".py",
   "mimetype": "text/x-python",
   "name": "python",
   "nbconvert_exporter": "python",
   "pygments_lexer": "ipython3",
   "version": "3.10.10"
  }
 },
 "nbformat": 4,
 "nbformat_minor": 2
}
